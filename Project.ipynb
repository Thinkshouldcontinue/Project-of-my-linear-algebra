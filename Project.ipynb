{
 "cells": [
  {
   "cell_type": "code",
   "execution_count": 1,
   "id": "03df94c0",
   "metadata": {},
   "outputs": [],
   "source": [
    "import numpy as np\n",
    "import matplotlib.pyplot as plt\n",
    "from decimal import Decimal"
   ]
  },
  {
   "cell_type": "markdown",
   "id": "a634cc98",
   "metadata": {},
   "source": [
    "# 1.Implementation of the method in project"
   ]
  },
  {
   "cell_type": "markdown",
   "id": "abcc6a89",
   "metadata": {},
   "source": [
    "# 1.1 Basic Setting"
   ]
  },
  {
   "cell_type": "markdown",
   "id": "6ec1c059",
   "metadata": {},
   "source": [
    "In this case, I am assuming that I discretize $\\lambda$ on interval $[l_u, u_b]$\n",
    "<br>\n",
    "The part below is mainly about Part 2.\n",
    "Solving the $(A + \\lambda I)u = e_1$ <br>\n",
    "And get vector $(d(\\lambda_1),.... d(\\lambda_k))$ <br>\n",
    "\n",
    "Note k is the discretion of $\\lambda$ on its interval"
   ]
  },
  {
   "cell_type": "code",
   "execution_count": 2,
   "id": "b6357719",
   "metadata": {},
   "outputs": [],
   "source": [
    "'''\n",
    "This is a matrix A in 2.1 and 3.1\n",
    "'''\n",
    "def action_matrix(n):\n",
    "    \n",
    "    #initialize the matrix with n-1 rows and n-1 columns\n",
    "    \n",
    "    matrix = np.zeros((n-1,n-1)) \n",
    "    \n",
    "    #discretization\n",
    "    \n",
    "    h = 1/n\n",
    "    \n",
    "    for i in range(n-1):\n",
    "        matrix[i,i] = -2\n",
    "        if i > 0:\n",
    "            matrix[i,i-1] = 1\n",
    "        if i < n - 2:\n",
    "            matrix[i, i+1] = 1\n",
    "    \n",
    "    matrix = (-1)* matrix *(1/(h**2))\n",
    "    \n",
    "    return matrix\n",
    "\n",
    "\n",
    "\n",
    "def solve_equation(A, labda):\n",
    "    '''\n",
    "    This function gives an accurate numerical solution for heat equation at time labda\n",
    "    it uses the equation 2.1\n",
    "    input:\n",
    "    A: matrix A\n",
    "    labda: time labda\n",
    "    \n",
    "    output: accurate result, a vector with (n-1) entries\n",
    "    \n",
    "    '''\n",
    "    n = A.shape[0]\n",
    "    e_1 = np.array([1] + [0]*(n-1))\n",
    "    A_labda = A + labda * np.identity(n)\n",
    "    result = np.linalg.solve(A_labda, e_1)\n",
    "    return result\n",
    "\n",
    "def vector_d(A, k, l_bound, u_bound):\n",
    "    '''\n",
    "    input:\n",
    "    A: matrix A\n",
    "    k: discretion of interval [eps, u_bound]\n",
    "    eps: lower bound\n",
    "    u_bound: upper bound\n",
    "    \n",
    "    output: left side of the equation (3.1), vector d with k components\n",
    "    \n",
    "    '''\n",
    "    n = A.shape[0]\n",
    "    h_ = (u_bound - l_bound)/k\n",
    "    d_vector = np.array([solve_equation(A, (l_bound + (i+1) * h_ ))[0] for i in range(k)])\n",
    "    return d_vector"
   ]
  },
  {
   "cell_type": "markdown",
   "id": "579d2d52",
   "metadata": {},
   "source": [
    "For the part below I construct: <br>\n",
    "matrix $V_k = [(A + \\lambda_1 I)^{-1} e_1,..., (A + \\lambda_k I)^{-1} e_1]$ <br>\n",
    "matrix $M = V_k^T V_k$ <br>\n",
    "matrix $S = V_k^T A V $"
   ]
  },
  {
   "cell_type": "code",
   "execution_count": 3,
   "id": "1517a467",
   "metadata": {},
   "outputs": [],
   "source": [
    "def V_matrix(A, k, l_bound, u_bound):\n",
    "    '''\n",
    "    This function gives the matrix V\n",
    "    '''\n",
    "    n = A.shape[0]\n",
    "    V = np.zeros([n, k])\n",
    "    h_ = (u_bound - l_bound)/k\n",
    "    for i in range(k):\n",
    "        A_lambda = A + (l_bound + (i+1) * h_) * np.identity(n)\n",
    "        V[:, i] = np.linalg.inv(A_lambda)[:, 1]\n",
    "    return V\n",
    "\n",
    "def M_matrix(V):\n",
    "    VT = np.transpose(V)\n",
    "    return np.matmul(VT, V)\n",
    "\n",
    "\n",
    "def S_matrix(V, A):\n",
    "    VT = np.transpose(V)\n",
    "    return np.matmul(VT, np.matmul(A, V))\n",
    "    "
   ]
  },
  {
   "cell_type": "markdown",
   "id": "3966acb4",
   "metadata": {},
   "source": [
    "For the part below we want to solve the equation 3.1:<br>\n",
    "\n",
    "For equation 3.1, given any $\\lambda \\in [\\lambda_{min}, \\lambda_{max}]$: we can approximate the vector $u(\\dot, \\lambda)$ which has (n-1) entries:<br>\n",
    "$(S + \\lambda M) w_k = (d(\\lambda_1),.... d(\\lambda_k))^*$<br>\n",
    "$u \\approx V_k w_k$"
   ]
  },
  {
   "cell_type": "markdown",
   "id": "fd3dfc89",
   "metadata": {},
   "source": [
    "# 1.2 projection framework"
   ]
  },
  {
   "cell_type": "code",
   "execution_count": 4,
   "id": "d6666bed",
   "metadata": {},
   "outputs": [],
   "source": [
    "def appro_solve(A, k, l_bound, u_bound, labda):\n",
    "    V = V_matrix(A, k, l_bound, u_bound)\n",
    "    M = M_matrix(V)\n",
    "    S = S_matrix(V, A)\n",
    "    d = vector_d(A, k, l_bound, u_bound)\n",
    "    w = np.linalg.solve((S + labda * M), d)\n",
    "    appro_result = np.matmul(V, w)\n",
    "    return appro_result"
   ]
  },
  {
   "cell_type": "markdown",
   "id": "94985198",
   "metadata": {},
   "source": [
    "For this part I construct matrix $Z$ which is a controller:\n",
    "which is a matrix whose columns are eigenvectors of $M$ corresponding to eigenvalue $\\mu_i > \\epsilon$:<br>\n",
    "I implement this matrix with SVD since $M$ is positive definite. Within the svd algorithm, eigenvalue will be arranged in descending order"
   ]
  },
  {
   "cell_type": "code",
   "execution_count": 5,
   "id": "e5d5a879",
   "metadata": {},
   "outputs": [],
   "source": [
    "def Z_matrix(M, eps):\n",
    "    '''\n",
    "    M: matrix M\n",
    "    eps: \\epsilon in the last part\n",
    "    '''\n",
    "    U, sigma, Vh = np.linalg.svd(M, full_matrices=True, compute_uv=True, hermitian=True)\n",
    "    length = len(sigma)\n",
    "    for i in range(length):\n",
    "        if sigma[i] < eps:\n",
    "             return U[:, :i]\n",
    "    return U"
   ]
  },
  {
   "cell_type": "markdown",
   "id": "666542f4",
   "metadata": {},
   "source": [
    "For this part, I will create a modified version of approximation of $u$ with $Z$:<br>\n",
    "$(Z^* S Z + \\lambda Z^* M Z) w_k = Z^* (d(\\lambda_1),.... d(\\lambda_k))^*$. <br>\n",
    "$u = V Z w_k$"
   ]
  },
  {
   "cell_type": "code",
   "execution_count": 48,
   "id": "fdc7a6de",
   "metadata": {},
   "outputs": [],
   "source": [
    "def appro_solve_controller(A, k, l_bound, u_bound, labda, eps, noise):\n",
    "    '''\n",
    "    noise: level of noise if not specified , it is None\n",
    "    '''\n",
    "    n = A.shape[0]\n",
    "    V = V_matrix(A, k, l_bound, u_bound)\n",
    "    M = M_matrix(V)\n",
    "    S = S_matrix(V, A)\n",
    "    Z = Z_matrix(M, eps)\n",
    "    # I am not sure if this is a correct way\n",
    "    if noise:\n",
    "        d = vector_d(A, k, l_bound, u_bound)* (1 + noise)\n",
    "    else:\n",
    "        d = vector_d(A, k, l_bound, u_bound)\n",
    "    ZSZ = np.matmul(np.transpose(Z), np.matmul(S, Z))\n",
    "    ZMZ = np.matmul(np.transpose(Z), np.matmul(M, Z))\n",
    "    Zd = np.matmul(np.transpose(Z), d)\n",
    "    w = np.linalg.solve((ZSZ + labda * ZMZ), Zd)\n",
    "    appro_result = np.matmul(V, np.matmul(Z, w))\n",
    "    return appro_result"
   ]
  },
  {
   "cell_type": "markdown",
   "id": "bb3182c9",
   "metadata": {},
   "source": [
    "Error Function"
   ]
  },
  {
   "cell_type": "code",
   "execution_count": 49,
   "id": "403bea71",
   "metadata": {},
   "outputs": [],
   "source": [
    "def log_error(A, k, m, l_bound, u_bound, eps, noise):\n",
    "    #k is the discretion we use for getting M and S\n",
    "    #m is the discretion for our test\n",
    "    #So I am using the testing data generated from the new discretization\n",
    "    h_ = (u_bound - l_bound)/m\n",
    "    error_vector = [np.linalg.norm(appro_solve_controller(A, k, l_bound, u_bound, \n",
    "                                                          l_bound + h_ * (i+1), eps, noise)\n",
    "                                  - solve_equation(A, l_bound + h_ * (i+1))) for i in range(m)]\n",
    "    log_error = [Decimal(e).ln() for e in error_vector]\n",
    "    return sum(log_error)"
   ]
  },
  {
   "cell_type": "markdown",
   "id": "98a164d4",
   "metadata": {},
   "source": [
    "# 2.Noiseless data case"
   ]
  },
  {
   "cell_type": "markdown",
   "id": "19f90600",
   "metadata": {},
   "source": [
    "For $n = 101$, $\\lambda \\in [1,3]$ <br>\n",
    "Test matrix: A is 100 by 100 matrix <br>\n",
    "$k = 20, 80, 160, 320$ <br>\n",
    "$1e-5, 5e-6, 1e-6, 5e - 7...$ <br>\n",
    "Noiseless data."
   ]
  },
  {
   "cell_type": "markdown",
   "id": "44c90ce7",
   "metadata": {},
   "source": [
    "For $k  = 20$ and $S$, $M$ are k by k matrix"
   ]
  },
  {
   "cell_type": "code",
   "execution_count": 21,
   "id": "850805b7",
   "metadata": {},
   "outputs": [
    {
     "data": {
      "image/png": "[encoded data removed]",
      "text/plain": [
       "<Figure size 432x288 with 1 Axes>"
      ]
     },
     "metadata": {
      "needs_background": "light"
     },
     "output_type": "display_data"
    }
   ],
   "source": [
    "'''\n",
    "Noiseless data\n",
    "k = 20 for S, M\n",
    "testing data discretization is m = 16\n",
    "'''\n",
    "error = np.zeros(14)\n",
    "cc = np.array([i for i in range(12)])\n",
    "kk = ['1e-5','5e-6', '1e-6', '5e-7', '1e-7', '5e-8', '1e-8', '5e-9', '1e-9', '5e-10', '1e-10', '5e-11']\n",
    "plt.xticks(ticks=cc, labels=kk)\n",
    "ep = 1e-5\n",
    "y = np.array([log_error(action_matrix(101), 20, 16, 1, 3, ep, None)] + [0]*11)\n",
    "for i in range(1,12):\n",
    "    if i%2 == 1:\n",
    "        ep = ep * (0.5)\n",
    "    else:\n",
    "        ep = ep * (0.2)\n",
    "    y[i] = log_error(action_matrix(101), 20, 16, 1, 3, ep, None)\n",
    "\n",
    "plt.plot(cc, y)\n",
    "plt.xlabel(\"epsilon\")\n",
    "plt.ylabel(\"Error\")\n",
    "plt.title(\"For k = 20 case\")\n",
    "plt.show()"
   ]
  },
  {
   "cell_type": "markdown",
   "id": "00a8b447",
   "metadata": {},
   "source": [
    "For $k = 20$, $1e-8$ is the turning point. For $\\epsilon > 1e-8$, the error will increase greatly."
   ]
  },
  {
   "cell_type": "markdown",
   "id": "d9fda66f",
   "metadata": {},
   "source": [
    "For $k  = 80$ and $S$, $M$ are k by k matrix"
   ]
  },
  {
   "cell_type": "code",
   "execution_count": 22,
   "id": "7e149651",
   "metadata": {},
   "outputs": [
    {
     "data": {
      "image/png": "[encoded data removed]",
      "text/plain": [
       "<Figure size 432x288 with 1 Axes>"
      ]
     },
     "metadata": {
      "needs_background": "light"
     },
     "output_type": "display_data"
    }
   ],
   "source": [
    "'''\n",
    "Noiseless data\n",
    "k = 80 for S, M(They are k by k matrix)\n",
    "testing data discretization is m = 16\n",
    "'''\n",
    "error = np.zeros(14)\n",
    "cc = np.array([i for i in range(12)])\n",
    "kk = ['1e-5','5e-6', '1e-6', '5e-7', '1e-7', '5e-8', '1e-8', '5e-9', '1e-9', '5e-10', '1e-10', '5e-11']\n",
    "plt.xticks(ticks=cc, labels=kk)\n",
    "ep = 1e-5\n",
    "y = np.array([log_error(action_matrix(101), 80, 16, 1, 3, ep, None)] + [0]*11)\n",
    "for i in range(1,12):\n",
    "    if i%2 == 1:\n",
    "        ep = ep * (0.5)\n",
    "    else:\n",
    "        ep = ep * (0.2)\n",
    "    y[i] = log_error(action_matrix(101), 80, 16, 1, 3, ep, None)\n",
    "\n",
    "plt.plot(cc, y)\n",
    "plt.xlabel(\"epsilon\")\n",
    "plt.ylabel(\"Error\")\n",
    "plt.title(\"For k = 80 case\")\n",
    "plt.show()"
   ]
  },
  {
   "cell_type": "markdown",
   "id": "f562d802",
   "metadata": {},
   "source": [
    "From the graph above of k = 80, we can see that if $\\epsilon > 5e-8$. The error will increase greatly. $5e-8$ is the turning point which is greater than $1e-8$ for k = 20. It means we need to truncate more vectors in this case"
   ]
  },
  {
   "cell_type": "markdown",
   "id": "3d79e3e3",
   "metadata": {},
   "source": [
    "For $k  = 160$ and $S$, $M$ are 160 by 160 matrix"
   ]
  },
  {
   "cell_type": "code",
   "execution_count": 23,
   "id": "60d21fe9",
   "metadata": {},
   "outputs": [
    {
     "data": {
      "image/png": "[encoded data removed]",
      "text/plain": [
       "<Figure size 432x288 with 1 Axes>"
      ]
     },
     "metadata": {
      "needs_background": "light"
     },
     "output_type": "display_data"
    }
   ],
   "source": [
    "'''\n",
    "Noiseless data\n",
    "k = 160 for S, M(They are k by k matrix)\n",
    "testing data discretization is m = 16\n",
    "'''\n",
    "error = np.zeros(14)\n",
    "cc = np.array([i for i in range(12)])\n",
    "kk = ['1e-5','5e-6', '1e-6', '5e-7', '1e-7', '5e-8', '1e-8', '5e-9', '1e-9', '5e-10', '1e-10', '5e-11']\n",
    "plt.xticks(ticks=cc, labels=kk)\n",
    "ep = 1e-5\n",
    "y = np.array([log_error(action_matrix(101), 160, 16, 1, 3, ep, None)] + [0]*11)\n",
    "for i in range(1,12):\n",
    "    if i%2 == 1:\n",
    "        ep = ep * (0.5)\n",
    "    else:\n",
    "        ep = ep * (0.2)\n",
    "    y[i] = log_error(action_matrix(101), 160, 16, 1, 3, ep, None)\n",
    "\n",
    "plt.plot(cc, y)\n",
    "plt.xlabel(\"epsilon\")\n",
    "plt.ylabel(\"Error\")\n",
    "plt.title(\"For k = 160 case\")\n",
    "plt.show()"
   ]
  },
  {
   "cell_type": "markdown",
   "id": "d762ecc0",
   "metadata": {},
   "source": [
    "From the graph above of k = 160, we can see that if $\\epsilon > 1e-7$. The error will increase greatly. $1e-7$ is the turning point which is greater than $5e-8$ for k = 80. It means we need to truncate more vectors in this case than k = 80"
   ]
  },
  {
   "cell_type": "markdown",
   "id": "f66b5863",
   "metadata": {},
   "source": [
    "For $k  = 320$ and $S$, $M$ are 320 by 320 matrix"
   ]
  },
  {
   "cell_type": "code",
   "execution_count": 28,
   "id": "b431e526",
   "metadata": {},
   "outputs": [
    {
     "data": {
      "image/png": "[encoded data removed]",
      "text/plain": [
       "<Figure size 432x288 with 1 Axes>"
      ]
     },
     "metadata": {
      "needs_background": "light"
     },
     "output_type": "display_data"
    }
   ],
   "source": [
    "'''\n",
    "Noiseless data\n",
    "k = 160 for S, M(They are k by k matrix)\n",
    "testing data discretization is m = 16\n",
    "'''\n",
    "error = np.zeros(14)\n",
    "cc = np.array([i for i in range(12)])\n",
    "kk = ['1e-5','5e-6', '1e-6', '5e-7', '1e-7', '5e-8', '1e-8', '5e-9', '1e-9', '5e-10', '1e-10', '5e-11']\n",
    "plt.xticks(ticks=cc, labels=kk)\n",
    "ep = 1e-5\n",
    "y = np.array([log_error(action_matrix(101), 320, 16, 1, 3, ep, None)] + [0]*11)\n",
    "for i in range(1,12):\n",
    "    if i%2 == 1:\n",
    "        ep = ep * (0.5)\n",
    "    else:\n",
    "        ep = ep * (0.2)\n",
    "    y[i] = log_error(action_matrix(101), 320, 16, 1, 3, ep, None)\n",
    "\n",
    "plt.plot(cc, y)\n",
    "plt.xlabel(\"epsilon\")\n",
    "plt.ylabel(\"Error\")\n",
    "plt.title(\"For k = 320 case\")\n",
    "plt.show()"
   ]
  },
  {
   "cell_type": "markdown",
   "id": "d318ff38",
   "metadata": {},
   "source": [
    "From the graph above of k = 320, we can see that if $\\epsilon > 5e-7$. The error will increase greatly. $1e-7$ is the turning point which is greater than $5e-8$ for k = 160. It means we need to truncate more vectors in this case than k = 160"
   ]
  },
  {
   "cell_type": "markdown",
   "id": "36592d78",
   "metadata": {},
   "source": [
    "From my experiments with noiseless data, I can conclude that if we increase $k$ then, we need greater $\\epsilon$. It means that we need to truncate more vectors from $Z$"
   ]
  },
  {
   "cell_type": "markdown",
   "id": "29ff5f0b",
   "metadata": {},
   "source": [
    "# Data  with noise"
   ]
  },
  {
   "cell_type": "markdown",
   "id": "2a3e1457",
   "metadata": {},
   "source": [
    "Here Let's consider case with noise 5% and 10%\n",
    "For case k = 20, 80, 160"
   ]
  },
  {
   "cell_type": "code",
   "execution_count": 32,
   "id": "8deb4f6b",
   "metadata": {},
   "outputs": [
    {
     "name": "stdout",
     "output_type": "stream",
     "text": [
      "[-0.57603399]\n"
     ]
    }
   ],
   "source": [
    "s = np.random.uniform(-1,0,1)\n",
    "noi_05 = s * 0.05\n",
    "noi_1 = s * 0.1\n",
    "print(s)"
   ]
  },
  {
   "cell_type": "markdown",
   "id": "f51522fd",
   "metadata": {},
   "source": [
    "For k = 20, Set my testing samples as 16"
   ]
  },
  {
   "cell_type": "code",
   "execution_count": 50,
   "id": "f651c3e6",
   "metadata": {},
   "outputs": [
    {
     "data": {
      "image/png": "[encoded data removed]",
      "text/plain": [
       "<Figure size 432x288 with 1 Axes>"
      ]
     },
     "metadata": {
      "needs_background": "light"
     },
     "output_type": "display_data"
    }
   ],
   "source": [
    "'''\n",
    "Noiseless data\n",
    "k = 20 for S, M\n",
    "testing data discretization is m = 16\n",
    "noise with 5%\n",
    "'''\n",
    "error = np.zeros(14)\n",
    "cc = np.array([i for i in range(12)])\n",
    "kk = ['1e-5','5e-6', '1e-6', '5e-7', '1e-7', '5e-8', '1e-8', '5e-9', '1e-9', '5e-10', '1e-10', '5e-11']\n",
    "plt.xticks(ticks=cc, labels=kk)\n",
    "ep = 1e-5\n",
    "y = np.array([log_error(action_matrix(101), 20, 16, 1, 3, ep, noi_05)] + [0]*11)\n",
    "for i in range(1,12):\n",
    "    if i%2 == 1:\n",
    "        ep = ep * (0.5)\n",
    "    else:\n",
    "        ep = ep * (0.2)\n",
    "    y[i] = log_error(action_matrix(101), 20, 16, 1, 3, ep, noi_05)\n",
    "\n",
    "plt.plot(cc, y)\n",
    "plt.xlabel(\"epsilon\")\n",
    "plt.ylabel(\"Error\")\n",
    "plt.title(\"For k = 20 case with noise 5%\")\n",
    "plt.show()"
   ]
  },
  {
   "cell_type": "code",
   "execution_count": 52,
   "id": "dab279d0",
   "metadata": {},
   "outputs": [
    {
     "data": {
      "image/png": "[encoded data removed]",
      "text/plain": [
       "<Figure size 432x288 with 1 Axes>"
      ]
     },
     "metadata": {
      "needs_background": "light"
     },
     "output_type": "display_data"
    }
   ],
   "source": [
    "'''\n",
    "Noiseless data\n",
    "k = 20 for S, M\n",
    "testing data discretization is m = 16\n",
    "noise with 10%\n",
    "'''\n",
    "error = np.zeros(14)\n",
    "cc = np.array([i for i in range(12)])\n",
    "kk = ['1e-5','5e-6', '1e-6', '5e-7', '1e-7', '5e-8', '1e-8', '5e-9', '1e-9', '5e-10', '1e-10', '5e-11']\n",
    "plt.xticks(ticks=cc, labels=kk)\n",
    "ep = 1e-5\n",
    "y = np.array([log_error(action_matrix(101), 20, 16, 1, 3, ep, noi_1)] + [0]*11)\n",
    "for i in range(1,12):\n",
    "    if i%2 == 1:\n",
    "        ep = ep * (0.5)\n",
    "    else:\n",
    "        ep = ep * (0.2)\n",
    "    y[i] = log_error(action_matrix(101), 20, 16, 1, 3, ep, noi_1)\n",
    "\n",
    "plt.plot(cc, y)\n",
    "plt.xlabel(\"epsilon\")\n",
    "plt.ylabel(\"Error\")\n",
    "plt.title(\"For k = 20 case with noise 10%\")\n",
    "plt.show()"
   ]
  },
  {
   "cell_type": "markdown",
   "id": "e16f2078",
   "metadata": {},
   "source": [
    "For k = 80, testing sample discretization $m = 16$"
   ]
  },
  {
   "cell_type": "code",
   "execution_count": 53,
   "id": "9c7dd4e7",
   "metadata": {},
   "outputs": [
    {
     "data": {
      "image/png": "[encoded data removed]",
      "text/plain": [
       "<Figure size 432x288 with 1 Axes>"
      ]
     },
     "metadata": {
      "needs_background": "light"
     },
     "output_type": "display_data"
    }
   ],
   "source": [
    "'''\n",
    "Noiseless data\n",
    "k = 80 for S, M\n",
    "testing data discretization is m = 16\n",
    "noise with 5%\n",
    "'''\n",
    "error = np.zeros(14)\n",
    "cc = np.array([i for i in range(12)])\n",
    "kk = ['1e-5','5e-6', '1e-6', '5e-7', '1e-7', '5e-8', '1e-8', '5e-9', '1e-9', '5e-10', '1e-10', '5e-11']\n",
    "plt.xticks(ticks=cc, labels=kk)\n",
    "ep = 1e-5\n",
    "y = np.array([log_error(action_matrix(101), 80, 16, 1, 3, ep, noi_05)] + [0]*11)\n",
    "for i in range(1,12):\n",
    "    if i%2 == 1:\n",
    "        ep = ep * (0.5)\n",
    "    else:\n",
    "        ep = ep * (0.2)\n",
    "    y[i] = log_error(action_matrix(101), 80, 16, 1, 3, ep, noi_05)\n",
    "\n",
    "plt.plot(cc, y)\n",
    "plt.xlabel(\"epsilon\")\n",
    "plt.ylabel(\"Error\")\n",
    "plt.title(\"For k = 80 case with noise 5%\")\n",
    "plt.show()"
   ]
  },
  {
   "cell_type": "code",
   "execution_count": 54,
   "id": "4ac7784a",
   "metadata": {},
   "outputs": [
    {
     "data": {
      "image/png": "[encoded data removed]",
      "text/plain": [
       "<Figure size 432x288 with 1 Axes>"
      ]
     },
     "metadata": {
      "needs_background": "light"
     },
     "output_type": "display_data"
    }
   ],
   "source": [
    "'''\n",
    "Noiseless data\n",
    "k = 80 for S, M\n",
    "testing data discretization is m = 16\n",
    "noise with 10%\n",
    "'''\n",
    "error = np.zeros(14)\n",
    "cc = np.array([i for i in range(12)])\n",
    "kk = ['1e-5','5e-6', '1e-6', '5e-7', '1e-7', '5e-8', '1e-8', '5e-9', '1e-9', '5e-10', '1e-10', '5e-11']\n",
    "plt.xticks(ticks=cc, labels=kk)\n",
    "ep = 1e-5\n",
    "y = np.array([log_error(action_matrix(101), 80, 16, 1, 3, ep, noi_1)] + [0]*11)\n",
    "for i in range(1,12):\n",
    "    if i%2 == 1:\n",
    "        ep = ep * (0.5)\n",
    "    else:\n",
    "        ep = ep * (0.2)\n",
    "    y[i] = log_error(action_matrix(101), 80, 16, 1, 3, ep, noi_1)\n",
    "\n",
    "plt.plot(cc, y)\n",
    "plt.xlabel(\"epsilon\")\n",
    "plt.ylabel(\"Error\")\n",
    "plt.title(\"For k = 80 case with noise 10%\")\n",
    "plt.show()"
   ]
  },
  {
   "cell_type": "code",
   "execution_count": 55,
   "id": "3dcc50b9",
   "metadata": {},
   "outputs": [
    {
     "data": {
      "image/png": "[encoded data removed]",
      "text/plain": [
       "<Figure size 432x288 with 1 Axes>"
      ]
     },
     "metadata": {
      "needs_background": "light"
     },
     "output_type": "display_data"
    }
   ],
   "source": [
    "'''\n",
    "Noiseless data\n",
    "k = 160 for S, M\n",
    "testing data discretization is m = 16\n",
    "noise with 5%\n",
    "'''\n",
    "error = np.zeros(14)\n",
    "cc = np.array([i for i in range(12)])\n",
    "kk = ['1e-5','5e-6', '1e-6', '5e-7', '1e-7', '5e-8', '1e-8', '5e-9', '1e-9', '5e-10', '1e-10', '5e-11']\n",
    "plt.xticks(ticks=cc, labels=kk)\n",
    "ep = 1e-5\n",
    "y = np.array([log_error(action_matrix(101), 160, 16, 1, 3, ep, noi_05)] + [0]*11)\n",
    "for i in range(1,12):\n",
    "    if i%2 == 1:\n",
    "        ep = ep * (0.5)\n",
    "    else:\n",
    "        ep = ep * (0.2)\n",
    "    y[i] = log_error(action_matrix(101), 160, 16, 1, 3, ep, noi_05)\n",
    "\n",
    "plt.plot(cc, y)\n",
    "plt.xlabel(\"epsilon\")\n",
    "plt.ylabel(\"Error\")\n",
    "plt.title(\"For k = 160 case with noise 5%\")\n",
    "plt.show()"
   ]
  },
  {
   "cell_type": "code",
   "execution_count": 56,
   "id": "bb25ccd4",
   "metadata": {},
   "outputs": [
    {
     "data": {
      "image/png": "[encoded data removed]",
      "text/plain": [
       "<Figure size 432x288 with 1 Axes>"
      ]
     },
     "metadata": {
      "needs_background": "light"
     },
     "output_type": "display_data"
    }
   ],
   "source": [
    "'''\n",
    "Noiseless data\n",
    "k = 160 for S, M\n",
    "testing data discretization is m = 16\n",
    "noise with 10%\n",
    "'''\n",
    "error = np.zeros(14)\n",
    "cc = np.array([i for i in range(12)])\n",
    "kk = ['1e-5','5e-6', '1e-6', '5e-7', '1e-7', '5e-8', '1e-8', '5e-9', '1e-9', '5e-10', '1e-10', '5e-11']\n",
    "plt.xticks(ticks=cc, labels=kk)\n",
    "ep = 1e-5\n",
    "y = np.array([log_error(action_matrix(101), 160, 16, 1, 3, ep, noi_1)] + [0]*11)\n",
    "for i in range(1,12):\n",
    "    if i%2 == 1:\n",
    "        ep = ep * (0.5)\n",
    "    else:\n",
    "        ep = ep * (0.2)\n",
    "    y[i] = log_error(action_matrix(101), 160, 16, 1, 3, ep, noi_1)\n",
    "\n",
    "plt.plot(cc, y)\n",
    "plt.xlabel(\"epsilon\")\n",
    "plt.ylabel(\"Error\")\n",
    "plt.title(\"For k = 80 case with noise 5%\")\n",
    "plt.show()"
   ]
  },
  {
   "cell_type": "markdown",
   "id": "6520e4bf",
   "metadata": {},
   "source": [
    "Conclusion: Noise does not affect the turning point for the error of cases k = 20, 80, 160. That's fantastic. I observe the same result as the noiseless data. That's fantastic. The result I have is that the greater $k$, the greater $\\epsilon$ is better."
   ]
  },
  {
   "cell_type": "code",
   "execution_count": null,
   "id": "a7bcb2b1",
   "metadata": {},
   "outputs": [],
   "source": []
  }
 ],
 "metadata": {
  "kernelspec": {
   "display_name": "Python 3 (ipykernel)",
   "language": "python",
   "name": "python3"
  },
  "language_info": {
   "codemirror_mode": {
    "name": "ipython",
    "version": 3
   },
   "file_extension": ".py",
   "mimetype": "text/x-python",
   "name": "python",
   "nbconvert_exporter": "python",
   "pygments_lexer": "ipython3",
   "version": "3.9.7"
  }
 },
 "nbformat": 4,
 "nbformat_minor": 5
}
