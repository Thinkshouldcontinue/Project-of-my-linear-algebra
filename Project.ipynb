{
 "cells": [
  {
   "cell_type": "code",
   "execution_count": 150,
   "id": "03df94c0",
   "metadata": {},
   "outputs": [],
   "source": [
    "import numpy as np\n",
    "import matplotlib.pyplot as plt\n",
    "from decimal import Decimal\n",
    "from scipy.linalg import cho_factor, cho_solve"
   ]
  },
  {
   "cell_type": "markdown",
   "id": "f8237c25",
   "metadata": {},
   "source": [
    "# 1.Implementation of the method in project"
   ]
  },
  {
   "cell_type": "markdown",
   "id": "90d4ac84",
   "metadata": {},
   "source": [
    "# 1.1 Basic Setting"
   ]
  },
  {
   "cell_type": "markdown",
   "id": "6ec1c059",
   "metadata": {},
   "source": [
    "In this case, I am assuming that I discretize $\\lambda$ on interval $[l_u, u_b]$\n",
    "<br>\n",
    "The part below is mainly about Part 2.\n",
    "Solving the $(A + \\lambda I)u = e_1$ <br>\n",
    "And get vector $(d(\\lambda_1),.... d(\\lambda_k))$ <br>\n",
    "\n",
    "Note k is the discretion of $\\lambda$ on its interval"
   ]
  },
  {
   "cell_type": "code",
   "execution_count": 151,
   "id": "b6357719",
   "metadata": {},
   "outputs": [],
   "source": [
    "'''\n",
    "This is a matrix A in 2.1 and 3.1\n",
    "'''\n",
    "def action_matrix(n):\n",
    "    \n",
    "    #initialize the matrix with n-1 rows and n-1 columns\n",
    "    \n",
    "    matrix = np.zeros((n-1,n-1)) \n",
    "    \n",
    "    #discretization\n",
    "    \n",
    "    h = 1/n\n",
    "    \n",
    "    for i in range(n-1):\n",
    "        matrix[i,i] = -2\n",
    "        if i > 0:\n",
    "            matrix[i,i-1] = 1\n",
    "        if i < n - 2:\n",
    "            matrix[i, i+1] = 1\n",
    "    \n",
    "    matrix = (-1)* matrix *(1/(h**2))\n",
    "    \n",
    "    return matrix\n",
    "\n",
    "def A_labda(A, labda):\n",
    "    n = A.shape[0]\n",
    "    return A + labda * np.identity(n)\n",
    "    \n",
    "\n",
    "def solve_equation(A, labda):\n",
    "    '''\n",
    "    This function gives an accurate numerical solution for heat equation at time labda\n",
    "    it uses the equation 2.1\n",
    "    input:\n",
    "    A: matrix A\n",
    "    labda: time labda\n",
    "    \n",
    "    output: accurate result, a vector with (n-1) entries\n",
    "    \n",
    "    '''\n",
    "    n = A.shape[0]\n",
    "    e_1 = np.array([1] + [0]*(n-1))\n",
    "    A_labda = A + labda * np.identity(n)\n",
    "    c, low = cho_factor(A_labda)\n",
    "    result = cho_solve((c, low), e_1)\n",
    "    return result\n",
    "\n",
    "def vector_d(A, k, l_bound, u_bound):\n",
    "    '''\n",
    "    input:\n",
    "    A: matrix A\n",
    "    k: discretion of interval [eps, u_bound]\n",
    "    eps: lower bound\n",
    "    u_bound: upper bound\n",
    "    \n",
    "    output: left side of the equation (3.1), vector d with k components\n",
    "    \n",
    "    '''\n",
    "    n = A.shape[0]\n",
    "    h_ = (u_bound - l_bound)/k\n",
    "    d_vector = np.array([solve_equation(A, (l_bound + (i+1) * h_ ))[0] for i in range(k)])\n",
    "    return d_vector"
   ]
  },
  {
   "cell_type": "markdown",
   "id": "579d2d52",
   "metadata": {},
   "source": [
    "For the part below I construct: <br>\n",
    "matrix $V_k = [(A + \\lambda_1 I)^{-1} e_1,..., (A + \\lambda_k I)^{-1} e_1]$ <br>\n",
    "matrix $M = V_k^T V_k$ <br>\n",
    "matrix $S = V_k^T A V $"
   ]
  },
  {
   "cell_type": "code",
   "execution_count": 152,
   "id": "1517a467",
   "metadata": {},
   "outputs": [],
   "source": [
    "def V_matrix(A, k, l_bound, u_bound):\n",
    "    '''\n",
    "    This function gives the matrix V\n",
    "    '''\n",
    "    n = A.shape[0]\n",
    "    V = np.zeros([n, k])\n",
    "    h_ = (u_bound - l_bound)/k\n",
    "    for i in range(k):\n",
    "        A_lambda = A + (l_bound + (i+1) * h_) * np.identity(n)\n",
    "        V[:, i] = np.linalg.inv(A_lambda)[:, 1]\n",
    "    return V\n",
    "\n",
    "def M_matrix(V):\n",
    "    VT = np.transpose(V)\n",
    "    return np.matmul(VT, V)\n",
    "\n",
    "\n",
    "def S_matrix(V, A):\n",
    "    VT = np.transpose(V)\n",
    "    return np.matmul(VT, np.matmul(A, V))\n",
    "    "
   ]
  },
  {
   "cell_type": "markdown",
   "id": "3966acb4",
   "metadata": {},
   "source": [
    "For the part below we want to solve the equation 3.1:<br>\n",
    "\n",
    "For equation 3.1, given any $\\lambda \\in [\\lambda_{min}, \\lambda_{max}]$: we can approximate the vector $u(\\dot, \\lambda)$ which has (n-1) entries:<br>\n",
    "$(S + \\lambda M) w_k = (d(\\lambda_1),.... d(\\lambda_k))^*$<br>\n",
    "$u \\approx V_k w_k$"
   ]
  },
  {
   "cell_type": "markdown",
   "id": "b8b318b2",
   "metadata": {},
   "source": [
    "# 1.2 projection framework"
   ]
  },
  {
   "cell_type": "code",
   "execution_count": 153,
   "id": "d6666bed",
   "metadata": {},
   "outputs": [],
   "source": [
    "def appro_solve(A, k, l_bound, u_bound, labda):\n",
    "    V = V_matrix(A, k, l_bound, u_bound)\n",
    "    M = M_matrix(V)\n",
    "    S = S_matrix(V, A)\n",
    "    d = vector_d(A, k, l_bound, u_bound)\n",
    "    w = np.linalg.solve((S + labda * M), d)\n",
    "    appro_result = np.matmul(V, w)\n",
    "    return appro_result"
   ]
  },
  {
   "cell_type": "markdown",
   "id": "94985198",
   "metadata": {},
   "source": [
    "For this part I construct matrix $Z$ which is a controller:\n",
    "which is a matrix whose columns are eigenvectors of $M$ corresponding to eigenvalue $\\mu_i > \\epsilon$:<br>\n",
    "I implement this matrix with SVD since $M$ is positive definite. Within the svd algorithm, eigenvalue will be arranged in descending order"
   ]
  },
  {
   "cell_type": "code",
   "execution_count": 154,
   "id": "e5d5a879",
   "metadata": {},
   "outputs": [],
   "source": [
    "def Z_matrix(M, eps):\n",
    "    '''\n",
    "    M: matrix M\n",
    "    eps: \\epsilon in the last part\n",
    "    '''\n",
    "    U, sigma, Vh = np.linalg.svd(M, full_matrices=True, compute_uv=True, hermitian=True)\n",
    "    length = len(sigma)\n",
    "    for i in range(length):\n",
    "        if sigma[i] < eps:\n",
    "             return U[:, :i]\n",
    "    return U"
   ]
  },
  {
   "cell_type": "markdown",
   "id": "666542f4",
   "metadata": {},
   "source": [
    "For this part, I will create a modified version of approximation of $u$ with $Z$:<br>\n",
    "$(Z^* S Z + \\lambda Z^* M Z) w_k = Z^* (d(\\lambda_1),.... d(\\lambda_k))^*$. <br>\n",
    "$u = V Z w_k$"
   ]
  },
  {
   "cell_type": "code",
   "execution_count": 155,
   "id": "fdc7a6de",
   "metadata": {},
   "outputs": [],
   "source": [
    "def appro_solve_controller(A, k, l_bound, u_bound, labda, eps, noise):\n",
    "    '''\n",
    "    noise: level of noise if not specified , it is None\n",
    "    '''\n",
    "    n = A.shape[0]\n",
    "    V = V_matrix(A, k, l_bound, u_bound)\n",
    "    M = M_matrix(V)\n",
    "    S = S_matrix(V, A)\n",
    "    Z = Z_matrix(M, eps)\n",
    "    # I am not sure if this is a correct way\n",
    "    if noise:\n",
    "        d = vector_d(A, k, l_bound, u_bound)* (1 + noise)\n",
    "    else:\n",
    "        d = vector_d(A, k, l_bound, u_bound)\n",
    "    ZSZ = np.matmul(np.transpose(Z), np.matmul(S, Z))\n",
    "    ZMZ = np.matmul(np.transpose(Z), np.matmul(M, Z))\n",
    "    Zd = np.matmul(np.transpose(Z), d)\n",
    "    w = np.linalg.solve((ZSZ + labda * ZMZ), Zd)\n",
    "    appro_result = np.matmul(V, np.matmul(Z, w))\n",
    "    return appro_result"
   ]
  },
  {
   "cell_type": "markdown",
   "id": "bb3182c9",
   "metadata": {},
   "source": [
    "Error Function"
   ]
  },
  {
   "cell_type": "code",
   "execution_count": 156,
   "id": "403bea71",
   "metadata": {},
   "outputs": [],
   "source": [
    "def log_error(A, k, m, l_bound, u_bound, eps, noise):\n",
    "    #k is the discretion we use for getting M and S\n",
    "    #m is the discretion for our test\n",
    "    #So I am using the testing data generated from the new discretization\n",
    "    h_ = (u_bound - l_bound)/m\n",
    "    error_vector = [np.linalg.norm(appro_solve_controller(A, k, l_bound, u_bound, \n",
    "                                                          l_bound + h_ * (i+1), eps, noise)\n",
    "                                  - solve_equation(A, l_bound + h_ * (i+1))) for i in range(m)]\n",
    "    log_error = [Decimal(e).ln() for e in error_vector]\n",
    "    return sum(log_error)"
   ]
  },
  {
   "cell_type": "markdown",
   "id": "f39ad0d1",
   "metadata": {},
   "source": [
    "# 1.3 Loewner's Framework"
   ]
  },
  {
   "cell_type": "code",
   "execution_count": 157,
   "id": "e601c4d5",
   "metadata": {},
   "outputs": [],
   "source": [
    "def deri_d(A, k, l_bound, u_bound):\n",
    "    '''\n",
    "    input:\n",
    "    A: matrix A\n",
    "    k: discretion of interval [eps, u_bound]\n",
    "    eps: lower bound\n",
    "    u_bound: upper bound\n",
    "    \n",
    "    output: left side of the equation (3.1), vector deri_d is the derivative of d with k compoenents\n",
    "    \n",
    "    '''\n",
    "    n = A.shape[0]\n",
    "    h_ = (u_bound - l_bound)/k\n",
    "    deri_vector = np.array([-np.dot(solve_equation(A, l_bound + (i+1) * h_), solve_equation(A, l_bound + (i+1) * h_)) for i in range(k)])\n",
    "    deri_labda_vector = np.array([deri_vector[i] * (1 + l_bound + (i+1) * h_) for i in range(k)])\n",
    "    return deri_vector, deri_labda_vector\n",
    "\n",
    "def M_Matrix_L(deri_vector, d_vector, k, l_bound, u_bound):\n",
    "    h_ = (u_bound - l_bound)/k\n",
    "    M = np.zeros([k, k])\n",
    "    for i in range(k-1):\n",
    "        for j in range(i+1, k):\n",
    "            M[i, j] = (d_vector[i] - d_vector[j])/((i-j)*h_)\n",
    "            M[j, i] = (d_vector[i] - d_vector[j])/((i-j)*h_)\n",
    "    for i in range(k):\n",
    "        M[i, i] = deri_vector[i]\n",
    "    return M\n",
    "\n",
    "def S_Matrix_L(deri_labda_vector, d_vector, k, l_bound, u_bound):\n",
    "    h_ = (u_bound - l_bound)/k\n",
    "    S = np.zeros([k, k])\n",
    "    for i in range(k-1):\n",
    "        for j in range(i+1, k):\n",
    "            S[i, j] = ((l_bound + (i+1) * h_) * d_vector[i] - (l_bound + (j+1) * h_) * d_vector[j])/((i-j)*h_)\n",
    "            S[j, i] = ((l_bound + (i+1) * h_) * d_vector[i] - (l_bound + (j+1) * h_) * d_vector[j])/((i-j)*h_)\n",
    "    for i in range(k):\n",
    "        S[i, i] = deri_labda_vector[i]\n",
    "    return S\n",
    "\n",
    "\n",
    "def appro_solve_controller_L(A, k, l_bound, u_bound, labda, eps, noise):\n",
    "    '''\n",
    "    noise: level of noise if not specified , it is None\n",
    "    '''\n",
    "    n = A.shape[0]\n",
    "    V = V_matrix(A, k, l_bound, u_bound)\n",
    "    d_vector = vector_d(A, k, l_bound, u_bound)\n",
    "    deri_vector, deri_labda_vector = deri_d(A, k, l_bound, u_bound)\n",
    "    M = M_Matrix_L(deri_vector, d_vector, k, l_bound, u_bound)\n",
    "    S = S_Matrix_L(deri_labda_vector, d_vector, k, l_bound, u_bound)\n",
    "    Z = Z_matrix(M, eps)\n",
    "    # I am not sure if this is a correct way\n",
    "    if noise:\n",
    "        d = vector_d(A, k, l_bound, u_bound)* (1 + noise)\n",
    "    else:\n",
    "        d = vector_d(A, k, l_bound, u_bound)\n",
    "    ZSZ = np.matmul(np.transpose(Z), np.matmul(S, Z))\n",
    "    ZMZ = np.matmul(np.transpose(Z), np.matmul(M, Z))\n",
    "    Zd = np.matmul(np.transpose(Z), d)\n",
    "    w = np.linalg.solve((ZSZ + labda * ZMZ), Zd)\n",
    "    appro_result = np.matmul(V, np.matmul(Z, w))\n",
    "    return appro_result\n",
    "\n",
    "def log_error_L(A, k, m, l_bound, u_bound, eps, noise):\n",
    "    #k is the discretion we use for getting M and S\n",
    "    #m is the discretion for our test\n",
    "    #So I am using the testing data generated from the new discretization\n",
    "    h_ = (u_bound - l_bound)/m\n",
    "    error_vector = [np.linalg.norm(appro_solve_controller_L(A, k, l_bound, u_bound, \n",
    "                                                          l_bound + h_ * (i+1), eps, noise)\n",
    "                                  - solve_equation(A, l_bound + h_ * (i+1))) for i in range(m)]\n",
    "    log_error = [Decimal(e).ln() for e in error_vector]\n",
    "    return sum(log_error)"
   ]
  },
  {
   "cell_type": "markdown",
   "id": "e23c8f58",
   "metadata": {},
   "source": [
    "# 2.Projection Framework"
   ]
  },
  {
   "cell_type": "markdown",
   "id": "854cd484",
   "metadata": {},
   "source": [
    "# 2.1Noiseless data case(Projection Framework)"
   ]
  },
  {
   "cell_type": "markdown",
   "id": "19f90600",
   "metadata": {},
   "source": [
    "For $n = 101$, $\\lambda \\in [1,3]$ <br>\n",
    "Test matrix: A is 100 by 100 matrix <br>\n",
    "$k = 20, 80, 160, 320$ <br>\n",
    "$1e-5, 5e-6, 1e-6, 5e - 7...$ <br>\n",
    "Noiseless data."
   ]
  },
  {
   "cell_type": "markdown",
   "id": "b9adae28",
   "metadata": {},
   "source": [
    "For $k  = 20$ and $S$, $M$ are k by k matrix"
   ]
  },
  {
   "cell_type": "code",
   "execution_count": 158,
   "id": "850805b7",
   "metadata": {},
   "outputs": [
    {
     "data": {
      "image/png": "[encoded data removed]",
      "text/plain": [
       "<Figure size 432x288 with 1 Axes>"
      ]
     },
     "metadata": {
      "needs_background": "light"
     },
     "output_type": "display_data"
    }
   ],
   "source": [
    "'''\n",
    "Noiseless data\n",
    "k = 20 for S, M\n",
    "testing data discretization is m = 16\n",
    "'''\n",
    "error = np.zeros(14)\n",
    "cc = np.array([i for i in range(12)])\n",
    "kk = ['1e-5','5e-6', '1e-6', '5e-7', '1e-7', '5e-8', '1e-8', '5e-9', '1e-9', '5e-10', '1e-10', '5e-11']\n",
    "plt.xticks(ticks=cc, labels=kk)\n",
    "ep = 1e-5\n",
    "y = np.array([log_error(action_matrix(101), 20, 16, 1, 3, ep, None)] + [0]*11)\n",
    "for i in range(1,12):\n",
    "    if i%2 == 1:\n",
    "        ep = ep * (0.5)\n",
    "    else:\n",
    "        ep = ep * (0.2)\n",
    "    y[i] = log_error(action_matrix(101), 20, 16, 1, 3, ep, None)\n",
    "\n",
    "plt.plot(cc, y)\n",
    "plt.xlabel(\"epsilon\")\n",
    "plt.ylabel(\"Error\")\n",
    "plt.title(\"For k = 20 case\")\n",
    "plt.show()"
   ]
  },
  {
   "cell_type": "markdown",
   "id": "5c58136c",
   "metadata": {},
   "source": [
    "For $k = 20$, $1e-8$ is the turning point. For $\\epsilon > 1e-8$, the error will increase greatly."
   ]
  },
  {
   "cell_type": "markdown",
   "id": "515d7203",
   "metadata": {},
   "source": [
    "For $k  = 80$ and $S$, $M$ are k by k matrix"
   ]
  },
  {
   "cell_type": "code",
   "execution_count": 159,
   "id": "7e149651",
   "metadata": {},
   "outputs": [
    {
     "data": {
      "image/png": "[encoded data removed]",
      "text/plain": [
       "<Figure size 432x288 with 1 Axes>"
      ]
     },
     "metadata": {
      "needs_background": "light"
     },
     "output_type": "display_data"
    }
   ],
   "source": [
    "'''\n",
    "Noiseless data\n",
    "k = 80 for S, M(They are k by k matrix)\n",
    "testing data discretization is m = 16\n",
    "'''\n",
    "error = np.zeros(14)\n",
    "cc = np.array([i for i in range(12)])\n",
    "kk = ['1e-5','5e-6', '1e-6', '5e-7', '1e-7', '5e-8', '1e-8', '5e-9', '1e-9', '5e-10', '1e-10', '5e-11']\n",
    "plt.xticks(ticks=cc, labels=kk)\n",
    "ep = 1e-5\n",
    "y = np.array([log_error(action_matrix(101), 80, 16, 1, 3, ep, None)] + [0]*11)\n",
    "for i in range(1,12):\n",
    "    if i%2 == 1:\n",
    "        ep = ep * (0.5)\n",
    "    else:\n",
    "        ep = ep * (0.2)\n",
    "    y[i] = log_error(action_matrix(101), 80, 16, 1, 3, ep, None)\n",
    "\n",
    "plt.plot(cc, y)\n",
    "plt.xlabel(\"epsilon\")\n",
    "plt.ylabel(\"Error\")\n",
    "plt.title(\"For k = 80 case\")\n",
    "plt.show()"
   ]
  },
  {
   "cell_type": "markdown",
   "id": "613a4d69",
   "metadata": {},
   "source": [
    "From the graph above of k = 80, we can see that if $\\epsilon > 5e-8$. The error will increase greatly. $5e-8$ is the turning point which is greater than $1e-8$ for k = 20. It means we need to truncate more vectors in this case"
   ]
  },
  {
   "cell_type": "markdown",
   "id": "9a95aafe",
   "metadata": {},
   "source": [
    "For $k  = 160$ and $S$, $M$ are 160 by 160 matrix"
   ]
  },
  {
   "cell_type": "code",
   "execution_count": 23,
   "id": "86e4dafa",
   "metadata": {},
   "outputs": [
    {
     "data": {
      "image/png": "[encoded data removed]",
      "text/plain": [
       "<Figure size 432x288 with 1 Axes>"
      ]
     },
     "metadata": {
      "needs_background": "light"
     },
     "output_type": "display_data"
    }
   ],
   "source": [
    "'''\n",
    "Noiseless data\n",
    "k = 160 for S, M(They are k by k matrix)\n",
    "testing data discretization is m = 16\n",
    "'''\n",
    "error = np.zeros(14)\n",
    "cc = np.array([i for i in range(12)])\n",
    "kk = ['1e-5','5e-6', '1e-6', '5e-7', '1e-7', '5e-8', '1e-8', '5e-9', '1e-9', '5e-10', '1e-10', '5e-11']\n",
    "plt.xticks(ticks=cc, labels=kk)\n",
    "ep = 1e-5\n",
    "y = np.array([log_error(action_matrix(101), 160, 16, 1, 3, ep, None)] + [0]*11)\n",
    "for i in range(1,12):\n",
    "    if i%2 == 1:\n",
    "        ep = ep * (0.5)\n",
    "    else:\n",
    "        ep = ep * (0.2)\n",
    "    y[i] = log_error(action_matrix(101), 160, 16, 1, 3, ep, None)\n",
    "\n",
    "plt.plot(cc, y)\n",
    "plt.xlabel(\"epsilon\")\n",
    "plt.ylabel(\"Error\")\n",
    "plt.title(\"For k = 160 case\")\n",
    "plt.show()"
   ]
  },
  {
   "cell_type": "markdown",
   "id": "9801add7",
   "metadata": {},
   "source": [
    "From the graph above of k = 160, we can see that if $\\epsilon > 1e-7$. The error will increase greatly. $1e-7$ is the turning point which is greater than $5e-8$ for k = 80. It means we need to truncate more vectors in this case than k = 80"
   ]
  },
  {
   "cell_type": "markdown",
   "id": "1523225f",
   "metadata": {},
   "source": [
    "For $k  = 320$ and $S$, $M$ are 320 by 320 matrix"
   ]
  },
  {
   "cell_type": "code",
   "execution_count": 160,
   "id": "1928b265",
   "metadata": {},
   "outputs": [
    {
     "data": {
      "image/png": "[encoded data removed]",
      "text/plain": [
       "<Figure size 432x288 with 1 Axes>"
      ]
     },
     "metadata": {
      "needs_background": "light"
     },
     "output_type": "display_data"
    }
   ],
   "source": [
    "'''\n",
    "Noiseless data\n",
    "k = 160 for S, M(They are k by k matrix)\n",
    "testing data discretization is m = 16\n",
    "'''\n",
    "error = np.zeros(14)\n",
    "cc = np.array([i for i in range(12)])\n",
    "kk = ['1e-5','5e-6', '1e-6', '5e-7', '1e-7', '5e-8', '1e-8', '5e-9', '1e-9', '5e-10', '1e-10', '5e-11']\n",
    "plt.xticks(ticks=cc, labels=kk)\n",
    "ep = 1e-5\n",
    "y = np.array([log_error(action_matrix(101), 320, 16, 1, 3, ep, None)] + [0]*11)\n",
    "for i in range(1,12):\n",
    "    if i%2 == 1:\n",
    "        ep = ep * (0.5)\n",
    "    else:\n",
    "        ep = ep * (0.2)\n",
    "    y[i] = log_error(action_matrix(101), 320, 16, 1, 3, ep, None)\n",
    "\n",
    "plt.plot(cc, y)\n",
    "plt.xlabel(\"epsilon\")\n",
    "plt.ylabel(\"Error\")\n",
    "plt.title(\"For k = 320 case\")\n",
    "plt.show()"
   ]
  },
  {
   "cell_type": "markdown",
   "id": "738802b6",
   "metadata": {},
   "source": [
    "From the graph above of k = 320, we can see that if $\\epsilon > 5e-7$. The error will increase greatly. $1e-7$ is the turning point which is greater than $5e-8$ for k = 160. It means we need to truncate more vectors in this case than k = 160"
   ]
  },
  {
   "cell_type": "markdown",
   "id": "7f8caf85",
   "metadata": {},
   "source": [
    "From my experiments with noiseless data, I can conclude that if we increase $k$ then, we need greater $\\epsilon$. It means that we need to truncate more vectors from $Z$"
   ]
  },
  {
   "cell_type": "markdown",
   "id": "430fd9d3",
   "metadata": {},
   "source": [
    "# 2.2 Data  with noise(Projection Framework)"
   ]
  },
  {
   "cell_type": "markdown",
   "id": "93910d25",
   "metadata": {},
   "source": [
    "Here Let's consider case with noise 5% and 10%\n",
    "For case k = 20, 80, 160"
   ]
  },
  {
   "cell_type": "code",
   "execution_count": 127,
   "id": "c8ba2a1a",
   "metadata": {},
   "outputs": [
    {
     "name": "stdout",
     "output_type": "stream",
     "text": [
      "[-0.77986565]\n"
     ]
    }
   ],
   "source": [
    "s = np.random.uniform(-1,0,1)\n",
    "noi_05 = s * 0.05\n",
    "noi_1 = s * 0.1\n",
    "print(s)"
   ]
  },
  {
   "cell_type": "markdown",
   "id": "4542e7bb",
   "metadata": {},
   "source": [
    "For k = 20, Set my testing samples as 16"
   ]
  },
  {
   "cell_type": "code",
   "execution_count": null,
   "id": "441b6db2",
   "metadata": {},
   "outputs": [],
   "source": []
  },
  {
   "cell_type": "code",
   "execution_count": 50,
   "id": "273ff77f",
   "metadata": {},
   "outputs": [
    {
     "data": {
      "image/png": "[encoded data removed]",
      "text/plain": [
       "<Figure size 432x288 with 1 Axes>"
      ]
     },
     "metadata": {
      "needs_background": "light"
     },
     "output_type": "display_data"
    }
   ],
   "source": [
    "'''\n",
    "Noiseless data\n",
    "k = 20 for S, M\n",
    "testing data discretization is m = 16\n",
    "noise with 5%\n",
    "'''\n",
    "error = np.zeros(14)\n",
    "cc = np.array([i for i in range(12)])\n",
    "kk = ['1e-5','5e-6', '1e-6', '5e-7', '1e-7', '5e-8', '1e-8', '5e-9', '1e-9', '5e-10', '1e-10', '5e-11']\n",
    "plt.xticks(ticks=cc, labels=kk)\n",
    "ep = 1e-5\n",
    "y = np.array([log_error(action_matrix(101), 20, 16, 1, 3, ep, noi_05)] + [0]*11)\n",
    "for i in range(1,12):\n",
    "    if i%2 == 1:\n",
    "        ep = ep * (0.5)\n",
    "    else:\n",
    "        ep = ep * (0.2)\n",
    "    y[i] = log_error(action_matrix(101), 20, 16, 1, 3, ep, noi_05)\n",
    "\n",
    "plt.plot(cc, y)\n",
    "plt.xlabel(\"epsilon\")\n",
    "plt.ylabel(\"Error\")\n",
    "plt.title(\"For k = 20 case with noise 5%\")\n",
    "plt.show()"
   ]
  },
  {
   "cell_type": "code",
   "execution_count": 52,
   "id": "f815ebe2",
   "metadata": {},
   "outputs": [
    {
     "data": {
      "image/png": "[encoded data removed]",
      "text/plain": [
       "<Figure size 432x288 with 1 Axes>"
      ]
     },
     "metadata": {
      "needs_background": "light"
     },
     "output_type": "display_data"
    }
   ],
   "source": [
    "'''\n",
    "Noiseless data\n",
    "k = 20 for S, M\n",
    "testing data discretization is m = 16\n",
    "noise with 10%\n",
    "'''\n",
    "error = np.zeros(14)\n",
    "cc = np.array([i for i in range(12)])\n",
    "kk = ['1e-5','5e-6', '1e-6', '5e-7', '1e-7', '5e-8', '1e-8', '5e-9', '1e-9', '5e-10', '1e-10', '5e-11']\n",
    "plt.xticks(ticks=cc, labels=kk)\n",
    "ep = 1e-5\n",
    "y = np.array([log_error(action_matrix(101), 20, 16, 1, 3, ep, noi_1)] + [0]*11)\n",
    "for i in range(1,12):\n",
    "    if i%2 == 1:\n",
    "        ep = ep * (0.5)\n",
    "    else:\n",
    "        ep = ep * (0.2)\n",
    "    y[i] = log_error(action_matrix(101), 20, 16, 1, 3, ep, noi_1)\n",
    "\n",
    "plt.plot(cc, y)\n",
    "plt.xlabel(\"epsilon\")\n",
    "plt.ylabel(\"Error\")\n",
    "plt.title(\"For k = 20 case with noise 10%\")\n",
    "plt.show()"
   ]
  },
  {
   "cell_type": "markdown",
   "id": "0763cf82",
   "metadata": {},
   "source": [
    "For k = 80, testing sample discretization $m = 16$"
   ]
  },
  {
   "cell_type": "code",
   "execution_count": 53,
   "id": "aa27acee",
   "metadata": {},
   "outputs": [
    {
     "data": {
      "image/png": "[encoded data removed]",
      "text/plain": [
       "<Figure size 432x288 with 1 Axes>"
      ]
     },
     "metadata": {
      "needs_background": "light"
     },
     "output_type": "display_data"
    }
   ],
   "source": [
    "'''\n",
    "Noiseless data\n",
    "k = 80 for S, M\n",
    "testing data discretization is m = 16\n",
    "noise with 5%\n",
    "'''\n",
    "error = np.zeros(14)\n",
    "cc = np.array([i for i in range(12)])\n",
    "kk = ['1e-5','5e-6', '1e-6', '5e-7', '1e-7', '5e-8', '1e-8', '5e-9', '1e-9', '5e-10', '1e-10', '5e-11']\n",
    "plt.xticks(ticks=cc, labels=kk)\n",
    "ep = 1e-5\n",
    "y = np.array([log_error(action_matrix(101), 80, 16, 1, 3, ep, noi_05)] + [0]*11)\n",
    "for i in range(1,12):\n",
    "    if i%2 == 1:\n",
    "        ep = ep * (0.5)\n",
    "    else:\n",
    "        ep = ep * (0.2)\n",
    "    y[i] = log_error(action_matrix(101), 80, 16, 1, 3, ep, noi_05)\n",
    "\n",
    "plt.plot(cc, y)\n",
    "plt.xlabel(\"epsilon\")\n",
    "plt.ylabel(\"Error\")\n",
    "plt.title(\"For k = 80 case with noise 5%\")\n",
    "plt.show()"
   ]
  },
  {
   "cell_type": "code",
   "execution_count": 54,
   "id": "5e2d50cc",
   "metadata": {},
   "outputs": [
    {
     "data": {
      "image/png": "[encoded data removed]",
      "text/plain": [
       "<Figure size 432x288 with 1 Axes>"
      ]
     },
     "metadata": {
      "needs_background": "light"
     },
     "output_type": "display_data"
    }
   ],
   "source": [
    "'''\n",
    "Noiseless data\n",
    "k = 80 for S, M\n",
    "testing data discretization is m = 16\n",
    "noise with 10%\n",
    "'''\n",
    "error = np.zeros(14)\n",
    "cc = np.array([i for i in range(12)])\n",
    "kk = ['1e-5','5e-6', '1e-6', '5e-7', '1e-7', '5e-8', '1e-8', '5e-9', '1e-9', '5e-10', '1e-10', '5e-11']\n",
    "plt.xticks(ticks=cc, labels=kk)\n",
    "ep = 1e-5\n",
    "y = np.array([log_error(action_matrix(101), 80, 16, 1, 3, ep, noi_1)] + [0]*11)\n",
    "for i in range(1,12):\n",
    "    if i%2 == 1:\n",
    "        ep = ep * (0.5)\n",
    "    else:\n",
    "        ep = ep * (0.2)\n",
    "    y[i] = log_error(action_matrix(101), 80, 16, 1, 3, ep, noi_1)\n",
    "\n",
    "plt.plot(cc, y)\n",
    "plt.xlabel(\"epsilon\")\n",
    "plt.ylabel(\"Error\")\n",
    "plt.title(\"For k = 80 case with noise 10%\")\n",
    "plt.show()"
   ]
  },
  {
   "cell_type": "code",
   "execution_count": 55,
   "id": "4717c506",
   "metadata": {},
   "outputs": [
    {
     "data": {
      "image/png": "[encoded data removed]",
      "text/plain": [
       "<Figure size 432x288 with 1 Axes>"
      ]
     },
     "metadata": {
      "needs_background": "light"
     },
     "output_type": "display_data"
    }
   ],
   "source": [
    "'''\n",
    "Noiseless data\n",
    "k = 160 for S, M\n",
    "testing data discretization is m = 16\n",
    "noise with 5%\n",
    "'''\n",
    "error = np.zeros(14)\n",
    "cc = np.array([i for i in range(12)])\n",
    "kk = ['1e-5','5e-6', '1e-6', '5e-7', '1e-7', '5e-8', '1e-8', '5e-9', '1e-9', '5e-10', '1e-10', '5e-11']\n",
    "plt.xticks(ticks=cc, labels=kk)\n",
    "ep = 1e-5\n",
    "y = np.array([log_error(action_matrix(101), 160, 16, 1, 3, ep, noi_05)] + [0]*11)\n",
    "for i in range(1,12):\n",
    "    if i%2 == 1:\n",
    "        ep = ep * (0.5)\n",
    "    else:\n",
    "        ep = ep * (0.2)\n",
    "    y[i] = log_error(action_matrix(101), 160, 16, 1, 3, ep, noi_05)\n",
    "\n",
    "plt.plot(cc, y)\n",
    "plt.xlabel(\"epsilon\")\n",
    "plt.ylabel(\"Error\")\n",
    "plt.title(\"For k = 160 case with noise 5%\")\n",
    "plt.show()"
   ]
  },
  {
   "cell_type": "code",
   "execution_count": 56,
   "id": "33350f1c",
   "metadata": {},
   "outputs": [
    {
     "data": {
      "image/png": "[encoded data removed]",
      "text/plain": [
       "<Figure size 432x288 with 1 Axes>"
      ]
     },
     "metadata": {
      "needs_background": "light"
     },
     "output_type": "display_data"
    }
   ],
   "source": [
    "'''\n",
    "Noiseless data\n",
    "k = 160 for S, M\n",
    "testing data discretization is m = 16\n",
    "noise with 10%\n",
    "'''\n",
    "error = np.zeros(14)\n",
    "cc = np.array([i for i in range(12)])\n",
    "kk = ['1e-5','5e-6', '1e-6', '5e-7', '1e-7', '5e-8', '1e-8', '5e-9', '1e-9', '5e-10', '1e-10', '5e-11']\n",
    "plt.xticks(ticks=cc, labels=kk)\n",
    "ep = 1e-5\n",
    "y = np.array([log_error(action_matrix(101), 160, 16, 1, 3, ep, noi_1)] + [0]*11)\n",
    "for i in range(1,12):\n",
    "    if i%2 == 1:\n",
    "        ep = ep * (0.5)\n",
    "    else:\n",
    "        ep = ep * (0.2)\n",
    "    y[i] = log_error(action_matrix(101), 160, 16, 1, 3, ep, noi_1)\n",
    "\n",
    "plt.plot(cc, y)\n",
    "plt.xlabel(\"epsilon\")\n",
    "plt.ylabel(\"Error\")\n",
    "plt.title(\"For k = 160 case with noise 5%\")\n",
    "plt.show()"
   ]
  },
  {
   "cell_type": "markdown",
   "id": "c4ad3f26",
   "metadata": {},
   "source": [
    "Conclusion: Noise does not affect the turning point for the error of cases k = 20, 80, 160. That's fantastic. I observe the same result as the noiseless data. That's fantastic. The result I have is that the greater $k$, the greater $\\epsilon$ is better."
   ]
  },
  {
   "cell_type": "markdown",
   "id": "cb0dd249",
   "metadata": {},
   "source": [
    "# 3.Noiseless data case(Loewner Framework)"
   ]
  },
  {
   "cell_type": "markdown",
   "id": "ee5be457",
   "metadata": {},
   "source": [
    "For $n = 101$, $\\lambda \\in [1,3]$ <br>\n",
    "Test matrix: A is 100 by 100 matrix <br>\n",
    "$k = 20, 80, 160, 320$ <br>\n",
    "$1e-5, 5e-6, 1e-6, 5e - 7...$ <br>\n",
    "Noiseless data."
   ]
  },
  {
   "cell_type": "markdown",
   "id": "c975556e",
   "metadata": {},
   "source": [
    "k = 20"
   ]
  },
  {
   "cell_type": "code",
   "execution_count": 161,
   "id": "4b9a1dae",
   "metadata": {},
   "outputs": [
    {
     "data": {
      "image/png": "[encoded data removed]",
      "text/plain": [
       "<Figure size 432x288 with 1 Axes>"
      ]
     },
     "metadata": {
      "needs_background": "light"
     },
     "output_type": "display_data"
    }
   ],
   "source": [
    "'''\n",
    "Noiseless data\n",
    "k = 20 for S, M\n",
    "testing data discretization is m = 16\n",
    "'''\n",
    "error = np.zeros(14)\n",
    "cc = np.array([i for i in range(12)])\n",
    "yy = np.array([-1 * i for i in range(12)])\n",
    "kk = ['1e-9', '1e-10', '1e-11', '1e-12', '1e-13','1e-14', '1e-15', '1e-16', '1e-17', '1e-18','1e-19','1e-20', ]\n",
    "plt.xticks(ticks=cc, labels=kk)\n",
    "ep = 1e-9\n",
    "y = np.array([log_error_L(action_matrix(101), 20, 16, 1, 3, ep, None)] + [0]*11)\n",
    "for i in range(1,12):\n",
    "    if i%2 == 1:\n",
    "        ep = ep * (0.1)\n",
    "    else:\n",
    "        ep = ep * (0.1)\n",
    "    y[i] = log_error_L(action_matrix(101), 20, 16, 1, 3, ep, None)\n",
    "\n",
    "plt.plot(cc, y)\n",
    "plt.xlabel(\"epsilon\")\n",
    "plt.ylabel(\"Error\")\n",
    "plt.title(\"For k = 20 case\")\n",
    "plt.show()"
   ]
  },
  {
   "cell_type": "markdown",
   "id": "01deba9e",
   "metadata": {},
   "source": [
    "k = 80"
   ]
  },
  {
   "cell_type": "code",
   "execution_count": 163,
   "id": "0f8393f4",
   "metadata": {},
   "outputs": [
    {
     "data": {
      "image/png": "[encoded data removed]",
      "text/plain": [
       "<Figure size 432x288 with 1 Axes>"
      ]
     },
     "metadata": {
      "needs_background": "light"
     },
     "output_type": "display_data"
    }
   ],
   "source": [
    "'''\n",
    "Noiseless data\n",
    "k = 80 for S, M\n",
    "testing data discretization is m = 16\n",
    "'''\n",
    "error = np.zeros(14)\n",
    "cc = np.array([i for i in range(12)])\n",
    "#yy = np.array([-8 * i for i in range(30)])\n",
    "kk = ['1e-13','1e-14', '1e-15', '1e-16', '1e-17', '1e-18', '1e-19','1e-20','1e-21', '1e-22', '1e-23', '1e-24']\n",
    "plt.xticks(ticks=cc, labels=kk)\n",
    "ep = 1e-13\n",
    "y = np.array([log_error_L(action_matrix(101), 80, 16, 1, 3, ep, None)] + [0]*11)\n",
    "for i in range(1,12):\n",
    "    if i%2 == 1:\n",
    "        ep = ep * (0.1)\n",
    "    else:\n",
    "        ep = ep * (0.1)\n",
    "    y[i] = log_error_L(action_matrix(101), 80, 16, 1, 3, ep, None)\n",
    "\n",
    "plt.plot(cc, y)\n",
    "plt.xlabel(\"epsilon\")\n",
    "plt.ylabel(\"Error\")\n",
    "plt.title(\"For k = 80 case\")\n",
    "plt.show()"
   ]
  },
  {
   "cell_type": "markdown",
   "id": "e29a7752",
   "metadata": {},
   "source": [
    "k = 160"
   ]
  },
  {
   "cell_type": "code",
   "execution_count": 164,
   "id": "0d85e93a",
   "metadata": {},
   "outputs": [
    {
     "data": {
      "image/png": "[encoded data removed]",
      "text/plain": [
       "<Figure size 432x288 with 1 Axes>"
      ]
     },
     "metadata": {
      "needs_background": "light"
     },
     "output_type": "display_data"
    }
   ],
   "source": [
    "'''\n",
    "Noiseless data\n",
    "k = 160 for S, M\n",
    "testing data discretization is m = 16\n",
    "'''\n",
    "error = np.zeros(14)\n",
    "cc = np.array([i for i in range(12)])\n",
    "kk = ['1e-9', '1e-10', '1e-11', '1e-12', '1e-13','1e-14', '1e-15', '1e-16', '1e-17', '1e-18', '1e-19', '1e-20']\n",
    "plt.xticks(ticks=cc, labels=kk)\n",
    "ep = 1e-9\n",
    "y = np.array([log_error_L(action_matrix(101), 160, 16, 1, 3, ep, None)] + [0]*11)\n",
    "for i in range(1,12):\n",
    "    if i%2 == 1:\n",
    "        ep = ep * (0.1)\n",
    "    else:\n",
    "        ep = ep * (0.1)\n",
    "    y[i] = log_error_L(action_matrix(101), 160, 16, 1, 3, ep, None)\n",
    "\n",
    "plt.plot(cc, y)\n",
    "plt.xlabel(\"epsilon\")\n",
    "plt.ylabel(\"Error\")\n",
    "plt.title(\"For k = 160 case\")\n",
    "plt.show()"
   ]
  },
  {
   "cell_type": "markdown",
   "id": "eb66972d",
   "metadata": {},
   "source": [
    "k = 320"
   ]
  },
  {
   "cell_type": "code",
   "execution_count": 166,
   "id": "9eb117bf",
   "metadata": {},
   "outputs": [
    {
     "data": {
      "image/png": "[encoded data removed]",
      "text/plain": [
       "<Figure size 432x288 with 1 Axes>"
      ]
     },
     "metadata": {
      "needs_background": "light"
     },
     "output_type": "display_data"
    }
   ],
   "source": [
    "'''\n",
    "Noiseless data\n",
    "k = 320 for S, M\n",
    "testing data discretization is m = 16\n",
    "'''\n",
    "error = np.zeros(14)\n",
    "cc = np.array([i for i in range(12)])\n",
    "kk = ['1e-9','1e-10', '1e-11', '1e-12', '1e-13','1e-14', '1e-15', '1e-16', '1e-17', '1e-18', '1e-19', '1e-20']\n",
    "plt.xticks(ticks=cc, labels=kk)\n",
    "ep = 1e-9\n",
    "y = np.array([log_error_L(action_matrix(101), 320, 16, 1, 3, ep, None)] + [0]*11)\n",
    "for i in range(1,12):\n",
    "    if i%2 == 1:\n",
    "        ep = ep * (0.1)\n",
    "    else:\n",
    "        ep = ep * (0.1)\n",
    "    y[i] = log_error_L(action_matrix(101), 320, 16, 1, 3, ep, None)\n",
    "\n",
    "plt.plot(cc, y)\n",
    "plt.xlabel(\"epsilon\")\n",
    "plt.ylabel(\"Error\")\n",
    "plt.title(\"For k = 320 case\")\n",
    "plt.show()"
   ]
  },
  {
   "cell_type": "markdown",
   "id": "e68a7b96",
   "metadata": {},
   "source": [
    "The conclusion for Loewner Framework is: For greater k, smaller $\\epsilon$ is always better than larger $\\epsilon$"
   ]
  },
  {
   "cell_type": "markdown",
   "id": "f88bdb6b",
   "metadata": {},
   "source": [
    "# 3.2 Noise data"
   ]
  },
  {
   "cell_type": "code",
   "execution_count": 167,
   "id": "aac5545b",
   "metadata": {},
   "outputs": [
    {
     "data": {
      "image/png": "[encoded data removed]",
      "text/plain": [
       "<Figure size 432x288 with 1 Axes>"
      ]
     },
     "metadata": {
      "needs_background": "light"
     },
     "output_type": "display_data"
    }
   ],
   "source": [
    "'''\n",
    "Noiseless data\n",
    "k = 20 for S, M\n",
    "testing data discretization is m = 16\n",
    "noise with 5%\n",
    "'''\n",
    "error = np.zeros(14)\n",
    "cc = np.array([i for i in range(12)])\n",
    "kk = ['1e-9','1e-10', '1e-11', '1e-12', '1e-13','1e-14', '1e-15', '1e-16', '1e-17', '1e-18', '1e-19', '1e-20']\n",
    "plt.xticks(ticks=cc, labels=kk)\n",
    "ep = 1e-9\n",
    "y = np.array([log_error_L(action_matrix(101), 20, 16, 1, 3, ep, noi_05)] + [0]*11)\n",
    "for i in range(1,12):\n",
    "    if i%2 == 1:\n",
    "        ep = ep * (0.1)\n",
    "    else:\n",
    "        ep = ep * (0.1)\n",
    "    y[i] = log_error_L(action_matrix(101), 20, 16, 1, 3, ep, noi_05)\n",
    "\n",
    "plt.plot(cc, y)\n",
    "plt.xlabel(\"epsilon\")\n",
    "plt.ylabel(\"Error\")\n",
    "plt.title(\"For k = 20 case with noise 5%\")\n",
    "plt.show()"
   ]
  },
  {
   "cell_type": "markdown",
   "id": "84a2bcb2",
   "metadata": {},
   "source": [
    "Error is obviously larger than noiseless one"
   ]
  },
  {
   "cell_type": "code",
   "execution_count": 168,
   "id": "d9c434d1",
   "metadata": {},
   "outputs": [
    {
     "data": {
      "image/png": "[encoded data removed]",
      "text/plain": [
       "<Figure size 432x288 with 1 Axes>"
      ]
     },
     "metadata": {
      "needs_background": "light"
     },
     "output_type": "display_data"
    }
   ],
   "source": [
    "'''\n",
    "Noiseless data\n",
    "k = 20 for S, M\n",
    "testing data discretization is m = 16\n",
    "noise with 5%\n",
    "'''\n",
    "error = np.zeros(14)\n",
    "cc = np.array([i for i in range(12)])\n",
    "kk = ['1e-9','1e-10', '1e-11', '1e-12', '1e-13','1e-14', '1e-15', '1e-16', '1e-17', '1e-18', '1e-19', '1e-20']\n",
    "plt.xticks(ticks=cc, labels=kk)\n",
    "ep = 1e-9\n",
    "y = np.array([log_error_L(action_matrix(101), 20, 16, 1, 3, ep, noi_1)] + [0]*11)\n",
    "for i in range(1,12):\n",
    "    if i%2 == 1:\n",
    "        ep = ep * (0.1)\n",
    "    else:\n",
    "        ep = ep * (0.1)\n",
    "    y[i] = log_error_L(action_matrix(101), 20, 16, 1, 3, ep, noi_1)\n",
    "\n",
    "plt.plot(cc, y)\n",
    "plt.xlabel(\"epsilon\")\n",
    "plt.ylabel(\"Error\")\n",
    "plt.title(\"For k = 20 case with noise 10%\")\n",
    "plt.show()"
   ]
  },
  {
   "cell_type": "markdown",
   "id": "02b0e7ec",
   "metadata": {},
   "source": [
    "Error is obviously larger than noiseless one"
   ]
  },
  {
   "cell_type": "code",
   "execution_count": 130,
   "id": "795002dd",
   "metadata": {},
   "outputs": [
    {
     "data": {
      "image/png": "[encoded data removed]",
      "text/plain": [
       "<Figure size 432x288 with 1 Axes>"
      ]
     },
     "metadata": {
      "needs_background": "light"
     },
     "output_type": "display_data"
    }
   ],
   "source": [
    "'''\n",
    "Noiseless data\n",
    "k = 80 for S, M\n",
    "testing data discretization is m = 16\n",
    "noise with 5%\n",
    "'''\n",
    "error = np.zeros(14)\n",
    "cc = np.array([i for i in range(12)])\n",
    "kk = ['1e-9','1e-10', '1e-11', '1e-12', '1e-13','1e-14', '1e-15', '1e-16', '1e-17', '1e-18', '1e-19', '1e-20']\n",
    "plt.xticks(ticks=cc, labels=kk)\n",
    "ep = 1e-9\n",
    "y = np.array([log_error_L(action_matrix(101), 80, 16, 1, 3, ep, noi_05)] + [0]*11)\n",
    "for i in range(1,12):\n",
    "    if i%2 == 1:\n",
    "        ep = ep * (0.1)\n",
    "    else:\n",
    "        ep = ep * (0.1)\n",
    "    y[i] = log_error_L(action_matrix(101), 80, 16, 1, 3, ep, noi_05)\n",
    "\n",
    "plt.plot(cc, y)\n",
    "plt.xlabel(\"epsilon\")\n",
    "plt.ylabel(\"Error\")\n",
    "plt.title(\"For k = 80 case with noise 5%\")\n",
    "plt.show()"
   ]
  },
  {
   "cell_type": "code",
   "execution_count": 141,
   "id": "3f7bee17",
   "metadata": {},
   "outputs": [
    {
     "data": {
      "image/png": "[encoded data removed]",
      "text/plain": [
       "<Figure size 432x288 with 1 Axes>"
      ]
     },
     "metadata": {
      "needs_background": "light"
     },
     "output_type": "display_data"
    }
   ],
   "source": [
    "'''\n",
    "Noiseless data\n",
    "k = 80 for S, M\n",
    "testing data discretization is m = 16\n",
    "noise with 10%\n",
    "'''\n",
    "error = np.zeros(14)\n",
    "cc = np.array([i for i in range(12)])\n",
    "kk = ['1e-9','1e-10', '1e-11', '1e-12', '1e-13','1e-14', '1e-15', '1e-16', '1e-17', '1e-18', '1e-19', '1e-20']\n",
    "plt.xticks(ticks=cc, labels=kk)\n",
    "ep = 1e-9\n",
    "y = np.array([log_error_L(action_matrix(101), 80, 16, 1, 3, ep, noi_1)] + [0]*11)\n",
    "for i in range(1,12):\n",
    "    if i%2 == 1:\n",
    "        ep = ep * (0.1)\n",
    "    else:\n",
    "        ep = ep * (0.1)\n",
    "    y[i] = log_error_L(action_matrix(101), 20, 80, 1, 3, ep, noi_1)\n",
    "\n",
    "plt.plot(cc, y)\n",
    "plt.xlabel(\"epsilon\")\n",
    "plt.ylabel(\"Error\")\n",
    "plt.title(\"For k = 80 case with noise 10%\")\n",
    "plt.show()"
   ]
  },
  {
   "cell_type": "markdown",
   "id": "096fca99",
   "metadata": {},
   "source": [
    "It's weird noise increase the accuracy for the estimation..."
   ]
  },
  {
   "cell_type": "code",
   "execution_count": null,
   "id": "2eeb1a9e",
   "metadata": {},
   "outputs": [],
   "source": []
  }
 ],
 "metadata": {
  "kernelspec": {
   "display_name": "Python 3 (ipykernel)",
   "language": "python",
   "name": "python3"
  },
  "language_info": {
   "codemirror_mode": {
    "name": "ipython",
    "version": 3
   },
   "file_extension": ".py",
   "mimetype": "text/x-python",
   "name": "python",
   "nbconvert_exporter": "python",
   "pygments_lexer": "ipython3",
   "version": "3.9.7"
  }
 },
 "nbformat": 4,
 "nbformat_minor": 5
}
